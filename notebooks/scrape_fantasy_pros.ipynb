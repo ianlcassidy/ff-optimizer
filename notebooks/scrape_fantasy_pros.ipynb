{
 "cells": [
  {
   "cell_type": "markdown",
   "metadata": {},
   "source": [
    "## Initialize notebook"
   ]
  },
  {
   "cell_type": "code",
   "execution_count": 1,
   "metadata": {},
   "outputs": [],
   "source": [
    "import typing as T\n",
    "\n",
    "import requests\n",
    "from bs4 import BeautifulSoup\n",
    "import re\n",
    "import json\n",
    "import pandas as pd\n",
    "\n",
    "pd.set_option(\"display.max_columns\", 500)"
   ]
  },
  {
   "cell_type": "markdown",
   "metadata": {},
   "source": [
    "## Define constants"
   ]
  },
  {
   "cell_type": "code",
   "execution_count": 2,
   "metadata": {},
   "outputs": [],
   "source": [
    "START_SIT_MAPPING = {\n",
    "    \"A+\": 4.33,\n",
    "    \"A\": 4.0,\n",
    "    \"A-\": 3.66,\n",
    "    \"B+\": 3.33,\n",
    "    \"B\": 3.0,\n",
    "    \"B-\": 2.66,\n",
    "    \"C+\": 2.33,\n",
    "    \"C\": 2.0,\n",
    "    \"D+\": 1.66,\n",
    "    \"D\": 1.33,\n",
    "    \"D-\": 1.0,\n",
    "    \"F\": 0,\n",
    "}\n",
    "\n",
    "TEAM_MAPPING = {\n",
    "    \"ARI\": \"ari\",\n",
    "    \"ATL\": \"atl\",\n",
    "    \"BAL\": \"bal\",\n",
    "    \"BUF\": \"buf\",\n",
    "    \"CAR\": \"car\",\n",
    "    \"CHI\": \"chi\",\n",
    "    \"CIN\": \"cin\",\n",
    "    \"CLE\": \"cle\",\n",
    "    \"DAL\": \"dal\",\n",
    "    \"DEN\": \"den\",\n",
    "    \"DET\": \"det\",\n",
    "    \"FA\": \"fa\",  # free agent\n",
    "    \"GB\": \"gb\",\n",
    "    \"HOU\": \"hou\",\n",
    "    \"IND\": \"ind\",\n",
    "    \"JAC\": \"jac\",\n",
    "    \"KC\": \"kan\",\n",
    "    \"LAC\": \"lac\",\n",
    "    \"LAR\": \"lar\",\n",
    "    \"LV\": \"lv\",\n",
    "    \"MIA\": \"mia\",\n",
    "    \"MIN\": \"min\",\n",
    "    \"NE\": \"ne\",\n",
    "    \"NO\": \"no\",\n",
    "    \"NYG\": \"nyg\",\n",
    "    \"NYJ\": \"nyj\",\n",
    "    \"PIT\": \"pit\",\n",
    "    \"PHI\": \"phi\",\n",
    "    \"SF\": \"sfo\",\n",
    "    \"SEA\": \"sea\",\n",
    "    \"TB\": \"tam\",\n",
    "    \"TEN\": \"ten\",\n",
    "    \"WAS\": \"was\",\n",
    "}"
   ]
  },
  {
   "cell_type": "markdown",
   "metadata": {},
   "source": [
    "## Define custom functions"
   ]
  },
  {
   "cell_type": "code",
   "execution_count": 3,
   "metadata": {},
   "outputs": [],
   "source": [
    "def get_and_scrape_player_data(position: str) -> T.List[T.Dict]:\n",
    "    path = position.lower()\n",
    "    if position in [\"WR\", \"RB\", \"TE\"]:\n",
    "        path = f\"ppr-{path}\"\n",
    "        \n",
    "    r = requests.get(\n",
    "        f\"https://www.fantasypros.com/nfl/rankings/{path}.php\"\n",
    "    )\n",
    "    assert r.status_code == 200\n",
    "    \n",
    "    soup = BeautifulSoup(r.text)\n",
    "    scripts = soup.find_all(\"script\")\n",
    "    \n",
    "    filtered_scripts = [s for s in scripts if \"var ecrData\" in str(s)]\n",
    "    assert len(filtered_scripts) == 1\n",
    "    \n",
    "    filtered = str(filtered_scripts[0].string)\n",
    "    ecr_data = re.findall(r\"var ecrData.*?=\\s*(.*?)};\", filtered, re.DOTALL | re.MULTILINE)\n",
    "    assert len(ecr_data) == 1\n",
    "\n",
    "    json_loadable_data = ecr_data[0].replace(\"/'\", \"'\") + \"}\"\n",
    "    data = json.loads(json_loadable_data)\n",
    "    return data[\"players\"]\n",
    "\n",
    "\n",
    "def create_name_position_key(data: T.Dict) -> str:\n",
    "    \"\"\"Attempts to create a unique key for each player\"\"\"\n",
    "    if data[\"position\"] == \"DST\":\n",
    "        team = data[\"team\"]\n",
    "        return f\"{team}-dst\"\n",
    "    \n",
    "    lower = data[\"name\"].lower()\n",
    "    cleaned = re.sub(\"[^a-z ]+\", \"\", lower)\n",
    "    names = cleaned.split(\" \")\n",
    "    positions = data[\"position\"].lower().split(\",\")\n",
    "    return f\"{names[0]}-{names[1]}-{positions[0]}\""
   ]
  },
  {
   "cell_type": "markdown",
   "metadata": {},
   "source": [
    "## Get data"
   ]
  },
  {
   "cell_type": "code",
   "execution_count": 4,
   "metadata": {},
   "outputs": [
    {
     "name": "stdout",
     "output_type": "stream",
     "text": [
      "number of QB found: 36\n",
      "number of RB found: 103\n",
      "number of WR found: 156\n",
      "number of TE found: 90\n",
      "number of DST found: 32\n",
      "total number of players found: 417\n"
     ]
    }
   ],
   "source": [
    "positions = [\"QB\", \"RB\", \"WR\", \"TE\", \"DST\"]\n",
    "data = []\n",
    "for pos in positions:\n",
    "    players = get_and_scrape_player_data(pos)\n",
    "    print(f\"number of {pos} found: {len(players)}\")\n",
    "    data.extend(players)\n",
    "    \n",
    "print(\"total number of players found:\", len(data))"
   ]
  },
  {
   "cell_type": "markdown",
   "metadata": {},
   "source": [
    "## Filter and convert data"
   ]
  },
  {
   "cell_type": "code",
   "execution_count": 5,
   "metadata": {},
   "outputs": [
    {
     "data": {
      "text/html": [
       "<div>\n",
       "<style scoped>\n",
       "    .dataframe tbody tr th:only-of-type {\n",
       "        vertical-align: middle;\n",
       "    }\n",
       "\n",
       "    .dataframe tbody tr th {\n",
       "        vertical-align: top;\n",
       "    }\n",
       "\n",
       "    .dataframe thead th {\n",
       "        text-align: right;\n",
       "    }\n",
       "</style>\n",
       "<table border=\"1\" class=\"dataframe\">\n",
       "  <thead>\n",
       "    <tr style=\"text-align: right;\">\n",
       "      <th></th>\n",
       "      <th>name</th>\n",
       "      <th>team</th>\n",
       "      <th>position</th>\n",
       "      <th>opponent</th>\n",
       "      <th>start_sit_grade</th>\n",
       "      <th>projected_points</th>\n",
       "      <th>position_rank</th>\n",
       "      <th>player_owned_pct</th>\n",
       "      <th>start_sit_score</th>\n",
       "      <th>name_position_key</th>\n",
       "    </tr>\n",
       "  </thead>\n",
       "  <tbody>\n",
       "    <tr>\n",
       "      <th>0</th>\n",
       "      <td>Patrick Mahomes II</td>\n",
       "      <td>kan</td>\n",
       "      <td>QB</td>\n",
       "      <td>tam</td>\n",
       "      <td>A+</td>\n",
       "      <td>23.7</td>\n",
       "      <td>1</td>\n",
       "      <td>100.0</td>\n",
       "      <td>4.33</td>\n",
       "      <td>patrick-mahomes-qb</td>\n",
       "    </tr>\n",
       "    <tr>\n",
       "      <th>1</th>\n",
       "      <td>Russell Wilson</td>\n",
       "      <td>sea</td>\n",
       "      <td>QB</td>\n",
       "      <td>phi</td>\n",
       "      <td>A+</td>\n",
       "      <td>23.5</td>\n",
       "      <td>2</td>\n",
       "      <td>100.0</td>\n",
       "      <td>4.33</td>\n",
       "      <td>russell-wilson-qb</td>\n",
       "    </tr>\n",
       "    <tr>\n",
       "      <th>2</th>\n",
       "      <td>Josh Allen</td>\n",
       "      <td>buf</td>\n",
       "      <td>QB</td>\n",
       "      <td>lac</td>\n",
       "      <td>A</td>\n",
       "      <td>23.0</td>\n",
       "      <td>3</td>\n",
       "      <td>99.4</td>\n",
       "      <td>4.00</td>\n",
       "      <td>josh-allen-qb</td>\n",
       "    </tr>\n",
       "    <tr>\n",
       "      <th>3</th>\n",
       "      <td>Kyler Murray</td>\n",
       "      <td>ari</td>\n",
       "      <td>QB</td>\n",
       "      <td>ne</td>\n",
       "      <td>A</td>\n",
       "      <td>22.3</td>\n",
       "      <td>4</td>\n",
       "      <td>100.0</td>\n",
       "      <td>4.00</td>\n",
       "      <td>kyler-murray-qb</td>\n",
       "    </tr>\n",
       "    <tr>\n",
       "      <th>4</th>\n",
       "      <td>Deshaun Watson</td>\n",
       "      <td>hou</td>\n",
       "      <td>QB</td>\n",
       "      <td>det</td>\n",
       "      <td>A-</td>\n",
       "      <td>21.4</td>\n",
       "      <td>5</td>\n",
       "      <td>99.3</td>\n",
       "      <td>3.66</td>\n",
       "      <td>deshaun-watson-qb</td>\n",
       "    </tr>\n",
       "  </tbody>\n",
       "</table>\n",
       "</div>"
      ],
      "text/plain": [
       "                 name team position opponent start_sit_grade  \\\n",
       "0  Patrick Mahomes II  kan       QB      tam              A+   \n",
       "1      Russell Wilson  sea       QB      phi              A+   \n",
       "2          Josh Allen  buf       QB      lac               A   \n",
       "3        Kyler Murray  ari       QB       ne               A   \n",
       "4      Deshaun Watson  hou       QB      det              A-   \n",
       "\n",
       "   projected_points  position_rank  player_owned_pct  start_sit_score  \\\n",
       "0              23.7              1             100.0             4.33   \n",
       "1              23.5              2             100.0             4.33   \n",
       "2              23.0              3              99.4             4.00   \n",
       "3              22.3              4             100.0             4.00   \n",
       "4              21.4              5              99.3             3.66   \n",
       "\n",
       "    name_position_key  \n",
       "0  patrick-mahomes-qb  \n",
       "1   russell-wilson-qb  \n",
       "2       josh-allen-qb  \n",
       "3     kyler-murray-qb  \n",
       "4   deshaun-watson-qb  "
      ]
     },
     "execution_count": 5,
     "metadata": {},
     "output_type": "execute_result"
    }
   ],
   "source": [
    "df_data = pd.DataFrame(data)\n",
    "df_data = df_data[\n",
    "    [\n",
    "        \"player_name\",\n",
    "        \"player_team_id\",\n",
    "        \"player_eligibility\",\n",
    "        \"player_opponent_id\",\n",
    "        \"start_sit_grade\",\n",
    "        \"r2p_pts\",\n",
    "        \"rank_ecr\",\n",
    "        \"player_owned_avg\",\n",
    "    ]\n",
    "]\n",
    "df_data.columns = [\n",
    "    \"name\",\n",
    "    \"team\",\n",
    "    \"position\",\n",
    "    \"opponent\",\n",
    "    \"start_sit_grade\",\n",
    "    \"projected_points\",\n",
    "    \"position_rank\",\n",
    "    \"player_owned_pct\",\n",
    "]\n",
    "df_data[\"start_sit_score\"] = df_data[\"start_sit_grade\"].map(START_SIT_MAPPING)\n",
    "df_data[\"projected_points\"] = df_data[\"projected_points\"].astype(float)\n",
    "df_data[\"team\"] = df_data[\"team\"].map(TEAM_MAPPING)\n",
    "df_data[\"opponent\"] = df_data[\"opponent\"].map(TEAM_MAPPING)\n",
    "df_data[\"name_position_key\"] = df_data.apply(lambda x: create_name_position_key(x), axis=1)\n",
    "df_data.head()"
   ]
  },
  {
   "cell_type": "markdown",
   "metadata": {},
   "source": [
    "## Save data"
   ]
  },
  {
   "cell_type": "code",
   "execution_count": 6,
   "metadata": {},
   "outputs": [],
   "source": [
    "df_data.to_csv(\"fantasy_pros_data_week12.csv\", index=False)"
   ]
  },
  {
   "cell_type": "code",
   "execution_count": null,
   "metadata": {},
   "outputs": [],
   "source": []
  }
 ],
 "metadata": {
  "kernelspec": {
   "display_name": "Python 3",
   "language": "python",
   "name": "python3"
  },
  "language_info": {
   "codemirror_mode": {
    "name": "ipython",
    "version": 3
   },
   "file_extension": ".py",
   "mimetype": "text/x-python",
   "name": "python",
   "nbconvert_exporter": "python",
   "pygments_lexer": "ipython3",
   "version": "3.8.6"
  }
 },
 "nbformat": 4,
 "nbformat_minor": 4
}
