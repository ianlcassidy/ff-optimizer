{
 "cells": [
  {
   "cell_type": "markdown",
   "metadata": {},
   "source": [
    "## Intialize notebook"
   ]
  },
  {
   "cell_type": "code",
   "execution_count": 1,
   "metadata": {},
   "outputs": [],
   "source": [
    "import pandas as pd\n",
    "import re\n",
    "import requests"
   ]
  },
  {
   "cell_type": "markdown",
   "metadata": {},
   "source": [
    "## Define custom functions"
   ]
  },
  {
   "cell_type": "code",
   "execution_count": 2,
   "metadata": {},
   "outputs": [],
   "source": [
    "def create_name_position_key(name: str, team: str, position: str) -> str:\n",
    "    \"\"\"Attempts to create a unique key for each player\"\"\"\n",
    "    if position == \"D\":\n",
    "        return f\"{team}-dst\"\n",
    "\n",
    "    names = [n.lower().strip() for n in name.split(\",\")]\n",
    "    names = [re.sub(\"[^a-z ]+\", \"\", n) for n in names]\n",
    "    last_name = names[0].split(\" \")[0]\n",
    "    first_name = names[-1]\n",
    "    return f\"{first_name}-{last_name}-{position.lower()}\""
   ]
  },
  {
   "cell_type": "markdown",
   "metadata": {},
   "source": [
    "## Get data"
   ]
  },
  {
   "cell_type": "code",
   "execution_count": 3,
   "metadata": {},
   "outputs": [
    {
     "data": {
      "text/plain": [
       "200"
      ]
     },
     "execution_count": 3,
     "metadata": {},
     "output_type": "execute_result"
    }
   ],
   "source": [
    "url = \"http://rotoguru1.com/cgi-bin/fstats.cgi\"\n",
    "params = {\n",
    "    \"pos\": 0,\n",
    "    \"sort\": 5,\n",
    "    \"game\": \"p\",\n",
    "    \"colA\": 0,\n",
    "    \"daypt\": 0,\n",
    "    \"xavg\": 1,\n",
    "    \"inact\": 0,\n",
    "    \"maxprc\": 99999,\n",
    "    \"outcsv\": 1,\n",
    "}\n",
    "r = requests.get(url, params=params)\n",
    "r.status_code"
   ]
  },
  {
   "cell_type": "markdown",
   "metadata": {},
   "source": [
    "## Convert raw data into dataframe"
   ]
  },
  {
   "cell_type": "code",
   "execution_count": 4,
   "metadata": {},
   "outputs": [
    {
     "name": "stdout",
     "output_type": "stream",
     "text": [
      "number of players scraped: 562\n"
     ]
    },
    {
     "data": {
      "text/html": [
       "<div>\n",
       "<style scoped>\n",
       "    .dataframe tbody tr th:only-of-type {\n",
       "        vertical-align: middle;\n",
       "    }\n",
       "\n",
       "    .dataframe tbody tr th {\n",
       "        vertical-align: top;\n",
       "    }\n",
       "\n",
       "    .dataframe thead th {\n",
       "        text-align: right;\n",
       "    }\n",
       "</style>\n",
       "<table border=\"1\" class=\"dataframe\">\n",
       "  <thead>\n",
       "    <tr style=\"text-align: right;\">\n",
       "      <th></th>\n",
       "      <th>gid</th>\n",
       "      <th>position</th>\n",
       "      <th>name</th>\n",
       "      <th>team</th>\n",
       "      <th>opponent</th>\n",
       "      <th>home/away</th>\n",
       "      <th>salary</th>\n",
       "      <th>salary_change</th>\n",
       "      <th>total_points</th>\n",
       "      <th>games_played</th>\n",
       "      <th>points_per_game</th>\n",
       "      <th>points_per_game_per_salary</th>\n",
       "      <th>points_per_game_alt</th>\n",
       "      <th>bye_week</th>\n",
       "      <th>ytd_salary_high/low</th>\n",
       "      <th>name_position_key</th>\n",
       "    </tr>\n",
       "  </thead>\n",
       "  <tbody>\n",
       "    <tr>\n",
       "      <th>0</th>\n",
       "      <td>1537</td>\n",
       "      <td>QB</td>\n",
       "      <td>Murray, Kyler</td>\n",
       "      <td>ari</td>\n",
       "      <td>sea</td>\n",
       "      <td>A</td>\n",
       "      <td>8500</td>\n",
       "      <td>500</td>\n",
       "      <td>282.4</td>\n",
       "      <td>9</td>\n",
       "      <td>31.38</td>\n",
       "      <td>3.69</td>\n",
       "      <td>31.38</td>\n",
       "      <td>8</td>\n",
       "      <td>H</td>\n",
       "      <td>kyler-murray-qb</td>\n",
       "    </tr>\n",
       "    <tr>\n",
       "      <th>1</th>\n",
       "      <td>1501</td>\n",
       "      <td>QB</td>\n",
       "      <td>Prescott, Dak</td>\n",
       "      <td>dal</td>\n",
       "      <td>min</td>\n",
       "      <td>A</td>\n",
       "      <td>4000</td>\n",
       "      <td>0</td>\n",
       "      <td>151.64</td>\n",
       "      <td>5</td>\n",
       "      <td>30.33</td>\n",
       "      <td>7.58</td>\n",
       "      <td>30.33</td>\n",
       "      <td>10</td>\n",
       "      <td></td>\n",
       "      <td>dak-prescott-qb</td>\n",
       "    </tr>\n",
       "    <tr>\n",
       "      <th>2</th>\n",
       "      <td>5536</td>\n",
       "      <td>RB</td>\n",
       "      <td>McCaffrey, Christian</td>\n",
       "      <td>car</td>\n",
       "      <td>det</td>\n",
       "      <td>H</td>\n",
       "      <td>9400</td>\n",
       "      <td>400</td>\n",
       "      <td>90.3</td>\n",
       "      <td>3</td>\n",
       "      <td>30.10</td>\n",
       "      <td>3.20</td>\n",
       "      <td>30.1</td>\n",
       "      <td>13</td>\n",
       "      <td></td>\n",
       "      <td>christian-mccaffrey-rb</td>\n",
       "    </tr>\n",
       "    <tr>\n",
       "      <th>3</th>\n",
       "      <td>1412</td>\n",
       "      <td>QB</td>\n",
       "      <td>Wilson, Russell</td>\n",
       "      <td>sea</td>\n",
       "      <td>ari</td>\n",
       "      <td>H</td>\n",
       "      <td>7400</td>\n",
       "      <td>-300</td>\n",
       "      <td>266.06</td>\n",
       "      <td>9</td>\n",
       "      <td>29.56</td>\n",
       "      <td>3.99</td>\n",
       "      <td>29.56</td>\n",
       "      <td>6</td>\n",
       "      <td></td>\n",
       "      <td>russell-wilson-qb</td>\n",
       "    </tr>\n",
       "    <tr>\n",
       "      <th>4</th>\n",
       "      <td>5559</td>\n",
       "      <td>RB</td>\n",
       "      <td>Cook, Dalvin</td>\n",
       "      <td>min</td>\n",
       "      <td>dal</td>\n",
       "      <td>H</td>\n",
       "      <td>9000</td>\n",
       "      <td>100</td>\n",
       "      <td>229.3</td>\n",
       "      <td>8</td>\n",
       "      <td>28.66</td>\n",
       "      <td>3.18</td>\n",
       "      <td>28.66</td>\n",
       "      <td>7</td>\n",
       "      <td>H</td>\n",
       "      <td>dalvin-cook-rb</td>\n",
       "    </tr>\n",
       "  </tbody>\n",
       "</table>\n",
       "</div>"
      ],
      "text/plain": [
       "    gid position                  name team opponent home/away  salary  \\\n",
       "0  1537       QB         Murray, Kyler  ari      sea         A    8500   \n",
       "1  1501       QB         Prescott, Dak  dal      min         A    4000   \n",
       "2  5536       RB  McCaffrey, Christian  car      det         H    9400   \n",
       "3  1412       QB       Wilson, Russell  sea      ari         H    7400   \n",
       "4  5559       RB          Cook, Dalvin  min      dal         H    9000   \n",
       "\n",
       "   salary_change total_points games_played  points_per_game  \\\n",
       "0            500        282.4            9            31.38   \n",
       "1              0       151.64            5            30.33   \n",
       "2            400         90.3            3            30.10   \n",
       "3           -300       266.06            9            29.56   \n",
       "4            100        229.3            8            28.66   \n",
       "\n",
       "   points_per_game_per_salary points_per_game_alt bye_week  \\\n",
       "0                        3.69               31.38        8   \n",
       "1                        7.58               30.33       10   \n",
       "2                        3.20                30.1       13   \n",
       "3                        3.99               29.56        6   \n",
       "4                        3.18               28.66        7   \n",
       "\n",
       "  ytd_salary_high/low       name_position_key  \n",
       "0                   H         kyler-murray-qb  \n",
       "1                             dak-prescott-qb  \n",
       "2                      christian-mccaffrey-rb  \n",
       "3                           russell-wilson-qb  \n",
       "4                   H          dalvin-cook-rb  "
      ]
     },
     "execution_count": 4,
     "metadata": {},
     "output_type": "execute_result"
    }
   ],
   "source": [
    "# split on newlines\n",
    "split_newline = r.text.split(\"\\n\")\n",
    "\n",
    "# if the first 4 characters in a line are digits, then it's player data (GID)\n",
    "players = [line for line in split_newline if line[:4].isdigit()]\n",
    "\n",
    "print(\"number of players scraped:\", len(players))\n",
    "\n",
    "# combine the headers with each row of data\n",
    "headers = [\n",
    "    \"gid\",\n",
    "    \"position\",\n",
    "    \"name\",\n",
    "    \"team\",\n",
    "    \"opponent\",\n",
    "    \"home/away\",\n",
    "    \"salary\",\n",
    "    \"salary_change\",\n",
    "    \"total_points\",\n",
    "    \"games_played\",\n",
    "    \"points_per_game\",\n",
    "    \"points_per_game_per_salary\",\n",
    "    \"points_per_game_alt\",\n",
    "    \"bye_week\",\n",
    "    \"ytd_salary_high/low\",\n",
    "]\n",
    "data = []\n",
    "for row in players:\n",
    "    split_row = row.split(\";\")\n",
    "    d = {k: v for k, v in zip(headers, split_row)}\n",
    "    d[\"name_position_key\"] = create_name_position_key(\n",
    "        d[\"name\"], d[\"team\"], d[\"position\"]\n",
    "    )\n",
    "    if d[\"position\"] == \"D\":\n",
    "        d[\"position\"] = \"DST\"\n",
    "    data.append(d)\n",
    "\n",
    "# convert to a dataframe\n",
    "df_data = pd.DataFrame(data)\n",
    "\n",
    "# check that the name_position_key is unique\n",
    "assert df_data[\"name_position_key\"].nunique() == len(df_data)\n",
    "\n",
    "# manipulate some columns\n",
    "df_data[\"salary\"] = df_data[\"salary\"].astype(int)\n",
    "df_data[\"salary_change\"] = df_data[\"salary_change\"].astype(int)\n",
    "df_data[\"points_per_game\"] = df_data[\"points_per_game\"].astype(float)\n",
    "df_data[\"points_per_game_per_salary\"] = df_data[\"points_per_game_per_salary\"].astype(\n",
    "    float\n",
    ")\n",
    "\n",
    "df_data.head()"
   ]
  },
  {
   "cell_type": "markdown",
   "metadata": {},
   "source": [
    "## Save data"
   ]
  },
  {
   "cell_type": "code",
   "execution_count": 5,
   "metadata": {},
   "outputs": [],
   "source": [
    "df_data.to_csv(\"historical_and_salary_data_week11.csv\", index=False)"
   ]
  },
  {
   "cell_type": "code",
   "execution_count": null,
   "metadata": {},
   "outputs": [],
   "source": []
  }
 ],
 "metadata": {
  "kernelspec": {
   "display_name": "Python 3",
   "language": "python",
   "name": "python3"
  },
  "language_info": {
   "codemirror_mode": {
    "name": "ipython",
    "version": 3
   },
   "file_extension": ".py",
   "mimetype": "text/x-python",
   "name": "python",
   "nbconvert_exporter": "python",
   "pygments_lexer": "ipython3",
   "version": "3.8.6"
  }
 },
 "nbformat": 4,
 "nbformat_minor": 4
}
