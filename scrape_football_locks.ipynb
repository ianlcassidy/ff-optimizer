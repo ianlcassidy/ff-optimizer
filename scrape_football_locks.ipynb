{
 "cells": [
  {
   "cell_type": "markdown",
   "metadata": {},
   "source": [
    "## Initalize notebook"
   ]
  },
  {
   "cell_type": "code",
   "execution_count": 1,
   "metadata": {},
   "outputs": [],
   "source": [
    "import requests\n",
    "from bs4 import BeautifulSoup\n",
    "import datetime\n",
    "import pandas as pd"
   ]
  },
  {
   "cell_type": "markdown",
   "metadata": {},
   "source": [
    "## Define custom functions"
   ]
  },
  {
   "cell_type": "code",
   "execution_count": 2,
   "metadata": {},
   "outputs": [],
   "source": [
    "def is_float(s: str) -> bool:\n",
    "    try:\n",
    "        float(s)\n",
    "        return True\n",
    "    except ValueError:\n",
    "        return False"
   ]
  },
  {
   "cell_type": "markdown",
   "metadata": {},
   "source": [
    "## Define constants"
   ]
  },
  {
   "cell_type": "code",
   "execution_count": 3,
   "metadata": {},
   "outputs": [],
   "source": [
    "TEAM_MAPPING = {\n",
    "    \"arizona\": \"ari\",\n",
    "    \"atlanta\": \"atl\",\n",
    "    \"baltimore\": \"bal\",\n",
    "    \"buffalo\": \"buf\",\n",
    "    \"carolina\": \"car\",\n",
    "    \"chicago\": \"chi\",\n",
    "    \"cincinnati\": \"cin\",\n",
    "    \"cleveland\": \"cle\",\n",
    "    \"dallas\": \"dal\",\n",
    "    \"denver\": \"den\",\n",
    "    \"detroit\": \"det\",\n",
    "    \"green bay\": \"gb\",\n",
    "    \"houston\": \"hou\",\n",
    "    \"indianapolis\": \"ind\",\n",
    "    \"jacksonville\": \"jac\",\n",
    "    \"kansas city\": \"kan\",\n",
    "    \"la chargers\": \"lac\",\n",
    "    \"la rams\": \"lar\",\n",
    "    \"las vegas\": \"lv\",\n",
    "    \"miami\": \"mia\",\n",
    "    \"minnesota\": \"min\",\n",
    "    \"new england\": \"ne\",\n",
    "    \"new orleans\": \"no\",\n",
    "    \"ny giants\": \"nyg\",\n",
    "    \"ny jets\": \"nyj\",\n",
    "    \"pittsburgh\": \"pit\",\n",
    "    \"philadelphia\": \"phi\",\n",
    "    \"san francisco\": \"sfo\",\n",
    "    \"seattle\": \"sea\",\n",
    "    \"tampa bay\": \"tam\",\n",
    "    \"tennessee\": \"ten\",\n",
    "    \"washington\": \"was\",\n",
    "}"
   ]
  },
  {
   "cell_type": "markdown",
   "metadata": {},
   "source": [
    "## Get data"
   ]
  },
  {
   "cell_type": "code",
   "execution_count": 4,
   "metadata": {},
   "outputs": [
    {
     "data": {
      "text/plain": [
       "200"
      ]
     },
     "execution_count": 4,
     "metadata": {},
     "output_type": "execute_result"
    }
   ],
   "source": [
    "r = requests.get(\"http://www.footballlocks.com/nfl_lines.shtml\")\n",
    "r.status_code"
   ]
  },
  {
   "cell_type": "markdown",
   "metadata": {},
   "source": [
    "## Filter and parse data"
   ]
  },
  {
   "cell_type": "code",
   "execution_count": 5,
   "metadata": {},
   "outputs": [
    {
     "name": "stdout",
     "output_type": "stream",
     "text": [
      "number of games found: 13\n"
     ]
    }
   ],
   "source": [
    "soup = BeautifulSoup(r.text)\n",
    "spans = [s for s in soup.body.findAll(\"span\") if \"NFL Lines For Week 7\" in s.text]\n",
    "line_span = spans[-1]\n",
    "trs = line_span.find_all_next(\"tr\", limit=20)\n",
    "\n",
    "keep = []\n",
    "for tr in trs:\n",
    "    tds = tr.find_all(\"td\")\n",
    "    if len(tds) == 5 and is_float(tds[4].text):\n",
    "        keep.append(tr)\n",
    "\n",
    "print(\"number of games found:\", len(keep))"
   ]
  },
  {
   "cell_type": "code",
   "execution_count": 6,
   "metadata": {},
   "outputs": [
    {
     "data": {
      "text/html": [
       "<div>\n",
       "<style scoped>\n",
       "    .dataframe tbody tr th:only-of-type {\n",
       "        vertical-align: middle;\n",
       "    }\n",
       "\n",
       "    .dataframe tbody tr th {\n",
       "        vertical-align: top;\n",
       "    }\n",
       "\n",
       "    .dataframe thead th {\n",
       "        text-align: right;\n",
       "    }\n",
       "</style>\n",
       "<table border=\"1\" class=\"dataframe\">\n",
       "  <thead>\n",
       "    <tr style=\"text-align: right;\">\n",
       "      <th></th>\n",
       "      <th>datetime</th>\n",
       "      <th>favorite</th>\n",
       "      <th>line</th>\n",
       "      <th>underdog</th>\n",
       "      <th>over_under</th>\n",
       "      <th>home</th>\n",
       "    </tr>\n",
       "  </thead>\n",
       "  <tbody>\n",
       "    <tr>\n",
       "      <th>0</th>\n",
       "      <td>2020-10-25 01:00:00</td>\n",
       "      <td>cle</td>\n",
       "      <td>-3.5</td>\n",
       "      <td>cin</td>\n",
       "      <td>50.5</td>\n",
       "      <td>cin</td>\n",
       "    </tr>\n",
       "    <tr>\n",
       "      <th>1</th>\n",
       "      <td>2020-10-25 01:00:00</td>\n",
       "      <td>was</td>\n",
       "      <td>0.0</td>\n",
       "      <td>dal</td>\n",
       "      <td>46.0</td>\n",
       "      <td>was</td>\n",
       "    </tr>\n",
       "    <tr>\n",
       "      <th>2</th>\n",
       "      <td>2020-10-25 01:00:00</td>\n",
       "      <td>atl</td>\n",
       "      <td>-2.5</td>\n",
       "      <td>det</td>\n",
       "      <td>55.0</td>\n",
       "      <td>atl</td>\n",
       "    </tr>\n",
       "    <tr>\n",
       "      <th>3</th>\n",
       "      <td>2020-10-25 01:00:00</td>\n",
       "      <td>no</td>\n",
       "      <td>-7.5</td>\n",
       "      <td>car</td>\n",
       "      <td>51.5</td>\n",
       "      <td>no</td>\n",
       "    </tr>\n",
       "    <tr>\n",
       "      <th>4</th>\n",
       "      <td>2020-10-25 01:00:00</td>\n",
       "      <td>buf</td>\n",
       "      <td>-12.0</td>\n",
       "      <td>nyj</td>\n",
       "      <td>45.0</td>\n",
       "      <td>nyj</td>\n",
       "    </tr>\n",
       "  </tbody>\n",
       "</table>\n",
       "</div>"
      ],
      "text/plain": [
       "             datetime favorite  line underdog  over_under home\n",
       "0 2020-10-25 01:00:00      cle  -3.5      cin        50.5  cin\n",
       "1 2020-10-25 01:00:00      was   0.0      dal        46.0  was\n",
       "2 2020-10-25 01:00:00      atl  -2.5      det        55.0  atl\n",
       "3 2020-10-25 01:00:00       no  -7.5      car        51.5   no\n",
       "4 2020-10-25 01:00:00      buf -12.0      nyj        45.0  nyj"
      ]
     },
     "execution_count": 6,
     "metadata": {},
     "output_type": "execute_result"
    }
   ],
   "source": [
    "headers = [\"datetime\", \"favorite\", \"line\", \"underdog\", \"over_under\", \"home\"]\n",
    "parsed = []\n",
    "for tr in keep:\n",
    "    # get tds\n",
    "    tds = tr.find_all(\"td\")\n",
    "    # parse game datetime\n",
    "    game_dt = tds[0].text[:10]\n",
    "    game_dt = datetime.datetime.strptime(f\"20/{game_dt}\", \"%y/%m/%d %H:%M\")\n",
    "    # parse favorite, underdog, and home team\n",
    "    favorite = tds[1].text.lower()\n",
    "    underdog = tds[3].text.lower()\n",
    "    home_team = favorite.replace(\"at \", \"\")\n",
    "    if \"at \" in underdog:\n",
    "        home_team = underdog.replace(\"at \", \"\")\n",
    "    favorite = favorite.replace(\"at \", \"\")\n",
    "    underdog = underdog.replace(\"at \", \"\")\n",
    "    # parse line and O/U\n",
    "    line = tds[2].text\n",
    "    if not is_float(line):\n",
    "        line = 0.0\n",
    "    line = float(line)\n",
    "    over_under = float(tds[4].text)\n",
    "    # merge data and headers\n",
    "    data = [game_dt, favorite, line, underdog, over_under, home_team]\n",
    "    merged = {k: v for k, v in zip(headers, data)}\n",
    "    parsed.append(merged)\n",
    "    \n",
    "\n",
    "df_data = pd.DataFrame(parsed)\n",
    "df_data[\"favorite\"] = df_data[\"favorite\"].map(TEAM_MAPPING)\n",
    "df_data[\"underdog\"] = df_data[\"underdog\"].map(TEAM_MAPPING)\n",
    "df_data[\"home\"] = df_data[\"home\"].map(TEAM_MAPPING)\n",
    "df_data.head()"
   ]
  },
  {
   "cell_type": "markdown",
   "metadata": {},
   "source": [
    "## Save data"
   ]
  },
  {
   "cell_type": "code",
   "execution_count": 7,
   "metadata": {},
   "outputs": [],
   "source": [
    "df_data.to_csv(\"schedule_and_odds_week7.csv\", index=False, date_format=\"%y-%m-%dT%H:%M:%S\")"
   ]
  },
  {
   "cell_type": "code",
   "execution_count": null,
   "metadata": {},
   "outputs": [],
   "source": []
  }
 ],
 "metadata": {
  "kernelspec": {
   "display_name": "Python 3",
   "language": "python",
   "name": "python3"
  },
  "language_info": {
   "codemirror_mode": {
    "name": "ipython",
    "version": 3
   },
   "file_extension": ".py",
   "mimetype": "text/x-python",
   "name": "python",
   "nbconvert_exporter": "python",
   "pygments_lexer": "ipython3",
   "version": "3.8.6"
  }
 },
 "nbformat": 4,
 "nbformat_minor": 4
}
